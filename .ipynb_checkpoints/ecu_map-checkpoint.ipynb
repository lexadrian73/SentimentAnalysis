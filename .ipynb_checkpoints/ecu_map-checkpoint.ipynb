{
 "cells": [
  {
   "cell_type": "code",
   "execution_count": 1,
   "id": "80f87f98-7a35-41a2-97e7-16051b00f4b7",
   "metadata": {},
   "outputs": [
    {
     "ename": "SyntaxError",
     "evalue": "invalid syntax (3814019128.py, line 11)",
     "output_type": "error",
     "traceback": [
      "\u001b[1;36m  Input \u001b[1;32mIn [1]\u001b[1;36m\u001b[0m\n\u001b[1;33m    for a in element[\"properties\"].get(\"PCODE2\")\u001b[0m\n\u001b[1;37m                                                ^\u001b[0m\n\u001b[1;31mSyntaxError\u001b[0m\u001b[1;31m:\u001b[0m invalid syntax\n"
     ]
    }
   ],
   "source": [
    "import plotly.express as px\n",
    "import json\n",
    "import pandas as pd\n",
    "\n",
    "f = open('ecu_geojson/ecuador.geojson', encoding=\"utf8\")\n",
    "data = json.load(f)\n",
    "\n",
    "import plotly.express as px\n",
    "\n",
    "for element in data['features']:\n",
    "    for a in element[\"properties\"].get(\"PCODE2\"):\n",
    "        print(a)\n",
    "        \n",
    "        \n",
    "df = pd.DataFrame(\n",
    "    {\"fips\": range(11180, 11192, 1)}\n",
    ")\n",
    "\n",
    "fig = px.choropleth(\n",
    "    df,\n",
    "    geojson=data,\n",
    "    locations=\"fips\",\n",
    "    featureidkey=\"features.PCODE2\",\n",
    "    #color=\"unemp\",\n",
    "    color_continuous_scale=\"Viridis\",\n",
    "    range_color=(0, 6),\n",
    "    #scope=\"europe\",\n",
    "    #labels={\"unemp\": \"unemployment rate\"},\n",
    ")\n",
    "fig.update_layout(margin={\"r\": 0, \"t\": 0, \"l\": 0, \"b\": 0})\n",
    "fig.update_geos(fitbounds=\"locations\", visible=True)\n",
    "fig.show()"
   ]
  },
  {
   "cell_type": "code",
   "execution_count": null,
   "id": "ab94f4d3-bac8-424c-b52a-a732ed0e1cb9",
   "metadata": {},
   "outputs": [],
   "source": []
  }
 ],
 "metadata": {
  "kernelspec": {
   "display_name": "Python 3 (ipykernel)",
   "language": "python",
   "name": "python3"
  },
  "language_info": {
   "codemirror_mode": {
    "name": "ipython",
    "version": 3
   },
   "file_extension": ".py",
   "mimetype": "text/x-python",
   "name": "python",
   "nbconvert_exporter": "python",
   "pygments_lexer": "ipython3",
   "version": "3.9.12"
  }
 },
 "nbformat": 4,
 "nbformat_minor": 5
}
